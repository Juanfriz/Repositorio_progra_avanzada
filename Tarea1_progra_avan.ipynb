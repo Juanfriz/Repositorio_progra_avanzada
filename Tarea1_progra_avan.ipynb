{
  "nbformat": 4,
  "nbformat_minor": 0,
  "metadata": {
    "colab": {
      "provenance": [],
      "toc_visible": true
    },
    "kernelspec": {
      "name": "python3",
      "display_name": "Python 3"
    },
    "language_info": {
      "name": "python"
    }
  },
  "cells": [
    {
      "cell_type": "markdown",
      "source": [
        "#### Tarea 1: Programacion Avanzada\n",
        "Alumno: Juan Hurtado Cortes.\n",
        "\n",
        "Profesores de Catedra:\n",
        "\n",
        "*   Ignacio Bugueño.\n",
        "*   Pablo Martín G.\n",
        "\n"
      ],
      "metadata": {
        "id": "UpWNLwrKXWyg"
      }
    },
    {
      "cell_type": "markdown",
      "source": [
        "###Preguntas teóricas\n",
        "¿Qué es un paradigma de programación?\n",
        "\n",
        "*   Un paradigma de programación es una forma o método particular para abordar y resolver problemas a través de la programación. Los paradigmas más utilizados incluyen la programación imperativa, la programación orientada a objetos, la funcional y la lógica. Cada uno proporciona un conjunto de principios y herramientas para estructurar y desarrollar programas..\n",
        "\n",
        "¿En qué se basa la programación orientada a objetos?\n",
        "\n",
        "*   La programación orientada a objetos (POO) se fundamenta en el empleo de \"objetos\", los cuales son instancias de \"clases\". Las clases especifican tanto los atributos (información) como los métodos (acciones). Entre los principios esenciales de la POO se encuentran la encapsulación, la herencia, el polimorfismo y la abstracción.\n",
        "\n",
        "¿Cuál es la diferencia entre recursividad e iteración, y cómo se relaciona esto con la notación big O?\n",
        "\n",
        "*   La recursividad ocurre cuando una función se llama a sí misma para resolver un problema, mientras que la iteración utiliza bucles para repetir una acción. Ambos enfoques pueden presentar diferentes órdenes de crecimiento en términos de complejidad. La notación Big O se emplea para describir el comportamiento de un algoritmo en su peor caso. Según cómo se implemente, la recursividad puede tener una complejidad comparable o incluso mayor que la iteración.\n",
        "\n",
        "Explicar la diferencia de rendimiento entre O(1) y O(n).\n",
        "\n",
        "*   O(1) indica que un algoritmo tiene un tiempo de ejecución constante, sin importar el tamaño del input.Mientras que la notacion O(n) significa que el tiempo de ejecución crece linealmente con el tamaño del input..\n",
        "\n",
        "¿Cómo se calcula el orden en un programa que funciona por etapas?\n",
        "\n",
        "*   Para determinar la complejidad de un programa que se ejecuta en varias etapas, se suman las complejidades de cada una, considerando si las etapas se llevan a cabo de manera secuencial o en paralelo. En general, el tiempo de ejecución total se estima tomando en cuenta la etapa más costosa, es decir, aquella con el mayor orden de complejidad.\n",
        "\n",
        "\n",
        "¿Cómo se puede determinar la complejidad temporal de un algoritmo recursivo?\n",
        "\n",
        "* La complejidad temporal de un algoritmo recursivo se establece formulando una recurrencia que describe cómo se distribuye el tiempo de ejecución entre las llamadas recursivas. Luego, dicha recurrencia se resuelve utilizando técnicas como el árbol de recursión o el teorema maestro para obtener la complejidad final.\n"
      ],
      "metadata": {
        "id": "1BzZ6HvvKFl6"
      }
    },
    {
      "cell_type": "markdown",
      "source": [
        "### Caminos en una PCB"
      ],
      "metadata": {
        "id": "EOkl5Fb3Xv8A"
      }
    },
    {
      "cell_type": "code",
      "source": [
        "import time\n",
        "# Decorador para medir el tiempo de ejecución\n",
        "def medir_tiempo(func):\n",
        "    def func_aux(*args, **kwargs):\n",
        "        inicio = time.time()  # Registrar tiempo de inicio\n",
        "        resultado = func(*args, **kwargs)  # Ejecutar la función decorada\n",
        "        fin = time.time()  # Registrar tiempo de finalización\n",
        "        tiempo_ejecucion = fin - inicio  # Calcular el tiempo de ejecución\n",
        "        print(f\"Tiempo de ejecución de {func.__name__}: {tiempo_ejecucion:.6f} segundos\")\n",
        "        return resultado\n",
        "    return func_aux\n",
        "\n",
        "# Clase para contar caminos en una matriz de NxM\n",
        "class CaminosPCB:\n",
        "\n",
        "    def __init__(self, N, M):\n",
        "        self.N = N\n",
        "        self.M = M\n",
        "        self.celdas = [[0 for _ in range(M)] for _ in range(N)]\n",
        "\n",
        "    @medir_tiempo\n",
        "    def contar_caminos(self, i, j):\n",
        "        if i == self.N - 1 and j == self.M - 1:\n",
        "            return 1\n",
        "        caminos = 0\n",
        "        if j + 1 < self.M:\n",
        "            caminos += self.contar_caminos(i, j + 1)\n",
        "        if i + 1 < self.N:\n",
        "            caminos += self.contar_caminos(i + 1, j)\n",
        "        return caminos\n",
        "\n",
        "    @medir_tiempo\n",
        "    def contar_caminos_diferente(self):\n",
        "        return self._contar_caminos_recursivo(self.N - 1, self.M - 1)\n",
        "\n",
        "    def _contar_caminos_recursivo(self, i, j):\n",
        "        if i == 0 or j == 0:\n",
        "            return 1\n",
        "        return self._contar_caminos_recursivo(i - 1, j) + self._contar_caminos_recursivo(i, j - 1)\n",
        "\n",
        "    # Comparación de caminos\n",
        "    def calcular_caminos(self, metodo='dinamico'):\n",
        "        if metodo == 'dinamico':\n",
        "            return self.contar_caminos(0, 0)  # Aquí pasamos los valores iniciales (0, 0)\n",
        "        elif metodo == 'recursivo':\n",
        "            return self.contar_caminos_diferente()\n",
        "\n",
        "# Pruebas de tanteo\n",
        "N = 3  # Número de filas\n",
        "M = 3  # Número de columnas\n",
        "pcb = CaminosPCB(N, M)\n",
        "\n",
        "# Medir el tiempo de ejecución de la solución dinámica\n",
        "resultado_dinamico = pcb.calcular_caminos(metodo='dinamico')\n",
        "print(f\"Resultado dinámico: {resultado_dinamico}\")\n",
        "\n",
        "# Medir el tiempo de ejecución de la solución recursiva\n",
        "resultado_recursivo = pcb.calcular_caminos(metodo='recursivo')\n",
        "print(f\"Resultado recursivo: {resultado_recursivo}\")\n",
        "\n"
      ],
      "metadata": {
        "colab": {
          "base_uri": "https://localhost:8080/"
        },
        "id": "N8eS3kyRghoI",
        "outputId": "4453abae-86f5-462f-9ef3-494e3fccd0f6"
      },
      "execution_count": null,
      "outputs": [
        {
          "output_type": "stream",
          "name": "stdout",
          "text": [
            "Tiempo de ejecución de contar_caminos: 0.000001 segundos\n",
            "Tiempo de ejecución de contar_caminos: 0.000113 segundos\n",
            "Tiempo de ejecución de contar_caminos: 0.000142 segundos\n",
            "Tiempo de ejecución de contar_caminos: 0.000001 segundos\n",
            "Tiempo de ejecución de contar_caminos: 0.000057 segundos\n",
            "Tiempo de ejecución de contar_caminos: 0.000001 segundos\n",
            "Tiempo de ejecución de contar_caminos: 0.000026 segundos\n",
            "Tiempo de ejecución de contar_caminos: 0.000134 segundos\n",
            "Tiempo de ejecución de contar_caminos: 0.000910 segundos\n",
            "Tiempo de ejecución de contar_caminos: 0.000001 segundos\n",
            "Tiempo de ejecución de contar_caminos: 0.000024 segundos\n",
            "Tiempo de ejecución de contar_caminos: 0.000001 segundos\n",
            "Tiempo de ejecución de contar_caminos: 0.000024 segundos\n",
            "Tiempo de ejecución de contar_caminos: 0.000096 segundos\n",
            "Tiempo de ejecución de contar_caminos: 0.000001 segundos\n",
            "Tiempo de ejecución de contar_caminos: 0.000025 segundos\n",
            "Tiempo de ejecución de contar_caminos: 0.000050 segundos\n",
            "Tiempo de ejecución de contar_caminos: 0.000191 segundos\n",
            "Tiempo de ejecución de contar_caminos: 0.001149 segundos\n",
            "Resultado dinámico: 6\n",
            "Tiempo de ejecución de contar_caminos_diferente: 0.000004 segundos\n",
            "Resultado recursivo: 6\n"
          ]
        }
      ]
    },
    {
      "cell_type": "code",
      "source": [
        "import time\n",
        "import matplotlib.pyplot as plt\n",
        "\n",
        "# Decorador para medir el tiempo de ejecución\n",
        "def medir_tiempo(func):\n",
        "    def func_aux(*args, **kwargs):\n",
        "        inicio = time.time()\n",
        "        resultado = func(*args, **kwargs)\n",
        "        fin = time.time()\n",
        "        tiempo_ejecucion = fin - inicio\n",
        "        print(f\"Tiempo de ejecución de {func.__name__}: {tiempo_ejecucion:.6f} segundos\")\n",
        "        return tiempo_ejecucion, resultado\n",
        "    return func_aux\n",
        "\n",
        "# Clase para contar caminos en una matriz de NxM\n",
        "class CaminosPCB:\n",
        "\n",
        "    def __init__(self, N, M):\n",
        "        self.N = N\n",
        "        self.M = M\n",
        "        self.celdas = [[0 for _ in range(M)] for _ in range(N)]\n",
        "\n",
        "    @medir_tiempo\n",
        "    def contar_caminos_dinamico(self):\n",
        "\n",
        "     for fila in range(self.N):\n",
        "        self.celdas[fila][0] = 1\n",
        "     for columna in range(self.M):\n",
        "        self.celdas[0][columna] = 1\n",
        "\n",
        "     for fila in range(1, self.N):\n",
        "         for columna in range(1, self.M):\n",
        "            caminos_desde_arriba = self.celdas[fila-1][columna]  # Caminos desde la celda superior.\n",
        "            caminos_desde_izquierda = self.celdas[fila][columna-1]  # Caminos desde la celda izquierda.\n",
        "\n",
        "\n",
        "            self.celdas[fila][columna] = caminos_desde_arriba + caminos_desde_izquierda\n",
        "\n",
        "\n",
        "     return self.celdas[self.N-1][self.M-1]\n",
        "\n",
        "\n",
        "    def _contar_caminos_recursivo(self, fila_actual, columna_actual):\n",
        "    # Caso base: Si estamos en el borde de la rejilla (primera fila o primera columna), solo hay un camino.\n",
        "     if fila_actual == 0 or columna_actual == 0:\n",
        "        return 1\n",
        "     caminos_desde_arriba = self._contar_caminos_recursivo(fila_actual - 1, columna_actual)\n",
        "     caminos_desde_izquierda = self._contar_caminos_recursivo(fila_actual, columna_actual - 1)\n",
        "\n",
        "\n",
        "     return caminos_desde_arriba + caminos_desde_izquierda\n",
        "\n",
        "    @medir_tiempo\n",
        "    def contar_caminos_recursivo(self):\n",
        "        return self._contar_caminos_recursivo(self.N - 1, self.M - 1)\n",
        "\n",
        "# Función para generar los gráficos\n",
        "def generar_graficos():\n",
        "    tamanos = list(range(2, 12))\n",
        "    tiempos_dinamico = []\n",
        "    tiempos_recursivo = []\n",
        "\n",
        "    for size in tamanos:\n",
        "        pcb = CaminosPCB(size, size)\n",
        "\n",
        "# Medicion de tiempos segun tipo de solucion\n",
        "        tiempo_dinamico, _ = pcb.contar_caminos_dinamico()\n",
        "        tiempos_dinamico.append(tiempo_dinamico)\n",
        "        tiempo_recursivo, _ = pcb.contar_caminos_recursivo()\n",
        "        tiempos_recursivo.append(tiempo_recursivo)\n",
        "\n",
        "    # Graficar los resultados\n",
        "    plt.plot(tamanos, tiempos_dinamico, label=\"Solución Dinámica\", marker='o', color='green')\n",
        "    plt.plot(tamanos, tiempos_recursivo, label=\"Solución Recursiva\", marker='s', color='red')\n",
        "\n",
        "    plt.title('Comparación de Tiempos de Ejecución')\n",
        "    plt.xlabel('Tamaño de la rejilla (N x N)')\n",
        "    plt.ylabel('Tiempo de ejecución (segundos)')\n",
        "    plt.legend()\n",
        "    plt.grid(True)\n",
        "\n",
        "    # Guardar el gráfico en formato SVG\n",
        "    plt.savefig('tiempos_ejecucion.svg', format='svg')\n",
        "    plt.show()\n",
        "\n",
        "# Ejecutar la función para generar los gráficos\n",
        "generar_graficos()\n",
        "\n"
      ],
      "metadata": {
        "colab": {
          "base_uri": "https://localhost:8080/",
          "height": 837
        },
        "id": "-_33SrOItosw",
        "outputId": "b9dfeef9-f2ad-402e-c31e-eae8d87831e0"
      },
      "execution_count": null,
      "outputs": [
        {
          "output_type": "stream",
          "name": "stdout",
          "text": [
            "Tiempo de ejecución de contar_caminos_dinamico: 0.000005 segundos\n",
            "Tiempo de ejecución de contar_caminos_recursivo: 0.000005 segundos\n",
            "Tiempo de ejecución de contar_caminos_dinamico: 0.000007 segundos\n",
            "Tiempo de ejecución de contar_caminos_recursivo: 0.000005 segundos\n",
            "Tiempo de ejecución de contar_caminos_dinamico: 0.000009 segundos\n",
            "Tiempo de ejecución de contar_caminos_recursivo: 0.000014 segundos\n",
            "Tiempo de ejecución de contar_caminos_dinamico: 0.000013 segundos\n",
            "Tiempo de ejecución de contar_caminos_recursivo: 0.000046 segundos\n",
            "Tiempo de ejecución de contar_caminos_dinamico: 0.000019 segundos\n",
            "Tiempo de ejecución de contar_caminos_recursivo: 0.000125 segundos\n",
            "Tiempo de ejecución de contar_caminos_dinamico: 0.000025 segundos\n",
            "Tiempo de ejecución de contar_caminos_recursivo: 0.000352 segundos\n",
            "Tiempo de ejecución de contar_caminos_dinamico: 0.000033 segundos\n",
            "Tiempo de ejecución de contar_caminos_recursivo: 0.001325 segundos\n",
            "Tiempo de ejecución de contar_caminos_dinamico: 0.000026 segundos\n",
            "Tiempo de ejecución de contar_caminos_recursivo: 0.006205 segundos\n",
            "Tiempo de ejecución de contar_caminos_dinamico: 0.000042 segundos\n",
            "Tiempo de ejecución de contar_caminos_recursivo: 0.019180 segundos\n",
            "Tiempo de ejecución de contar_caminos_dinamico: 0.000037 segundos\n",
            "Tiempo de ejecución de contar_caminos_recursivo: 0.065673 segundos\n"
          ]
        },
        {
          "output_type": "display_data",
          "data": {
            "text/plain": [
              "<Figure size 640x480 with 1 Axes>"
            ],
            "image/png": "[encoded data removed]"
          },
          "metadata": {}
        }
      ]
    }
  ]
}